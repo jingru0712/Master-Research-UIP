{
 "cells": [
  {
   "cell_type": "code",
   "execution_count": 1,
   "id": "4809cd87",
   "metadata": {},
   "outputs": [],
   "source": [
    "#dependent var: GDP \n",
    "#independent var:Capital productivity index & Foreign direct investment\n",
    "\n",
    "import numpy as np\n",
    "import pandas as pd\n",
    "from statsmodels.tsa.stattools import adfuller\n",
    "import matplotlib.pyplot as plt"
   ]
  },
  {
   "cell_type": "code",
   "execution_count": 2,
   "id": "c50dd44a",
   "metadata": {},
   "outputs": [],
   "source": [
    "GDP = pd.read_csv(\"/Users/yutoyama12/Desktop/Data/GDP US.csv\")\n",
    "FDI = pd.read_csv(\"/Users/yutoyama12/Desktop/Data/FDI US.csv\")\n",
    "CP = pd.read_csv(\"/Users/yutoyama12/Desktop/Data/Capital Productivity.csv\")\n"
   ]
  },
  {
   "cell_type": "markdown",
   "id": "870196b1",
   "metadata": {},
   "source": [
    "# Sationary Test"
   ]
  },
  {
   "cell_type": "code",
   "execution_count": 3,
   "id": "86893787",
   "metadata": {},
   "outputs": [
    {
     "data": {
      "text/html": [
       "<div>\n",
       "<style scoped>\n",
       "    .dataframe tbody tr th:only-of-type {\n",
       "        vertical-align: middle;\n",
       "    }\n",
       "\n",
       "    .dataframe tbody tr th {\n",
       "        vertical-align: top;\n",
       "    }\n",
       "\n",
       "    .dataframe thead th {\n",
       "        text-align: right;\n",
       "    }\n",
       "</style>\n",
       "<table border=\"1\" class=\"dataframe\">\n",
       "  <thead>\n",
       "    <tr style=\"text-align: right;\">\n",
       "      <th></th>\n",
       "      <th>Date</th>\n",
       "      <th>Capital Productivity</th>\n",
       "      <th>diff</th>\n",
       "    </tr>\n",
       "  </thead>\n",
       "  <tbody>\n",
       "    <tr>\n",
       "      <th>0</th>\n",
       "      <td>1985</td>\n",
       "      <td>148.658607</td>\n",
       "      <td>NaN</td>\n",
       "    </tr>\n",
       "    <tr>\n",
       "      <th>1</th>\n",
       "      <td>1986</td>\n",
       "      <td>146.476330</td>\n",
       "      <td>-2.182277</td>\n",
       "    </tr>\n",
       "    <tr>\n",
       "      <th>2</th>\n",
       "      <td>1987</td>\n",
       "      <td>144.778892</td>\n",
       "      <td>-1.697438</td>\n",
       "    </tr>\n",
       "    <tr>\n",
       "      <th>3</th>\n",
       "      <td>1988</td>\n",
       "      <td>144.428267</td>\n",
       "      <td>-0.350625</td>\n",
       "    </tr>\n",
       "    <tr>\n",
       "      <th>4</th>\n",
       "      <td>1989</td>\n",
       "      <td>143.294170</td>\n",
       "      <td>-1.134097</td>\n",
       "    </tr>\n",
       "    <tr>\n",
       "      <th>5</th>\n",
       "      <td>1990</td>\n",
       "      <td>140.277721</td>\n",
       "      <td>-3.016449</td>\n",
       "    </tr>\n",
       "    <tr>\n",
       "      <th>6</th>\n",
       "      <td>1991</td>\n",
       "      <td>135.588618</td>\n",
       "      <td>-4.689103</td>\n",
       "    </tr>\n",
       "    <tr>\n",
       "      <th>7</th>\n",
       "      <td>1992</td>\n",
       "      <td>136.066651</td>\n",
       "      <td>0.478033</td>\n",
       "    </tr>\n",
       "    <tr>\n",
       "      <th>8</th>\n",
       "      <td>1993</td>\n",
       "      <td>135.441523</td>\n",
       "      <td>-0.625128</td>\n",
       "    </tr>\n",
       "    <tr>\n",
       "      <th>9</th>\n",
       "      <td>1994</td>\n",
       "      <td>136.302360</td>\n",
       "      <td>0.860837</td>\n",
       "    </tr>\n",
       "    <tr>\n",
       "      <th>10</th>\n",
       "      <td>1995</td>\n",
       "      <td>134.704374</td>\n",
       "      <td>-1.597986</td>\n",
       "    </tr>\n",
       "    <tr>\n",
       "      <th>11</th>\n",
       "      <td>1996</td>\n",
       "      <td>133.694901</td>\n",
       "      <td>-1.009473</td>\n",
       "    </tr>\n",
       "    <tr>\n",
       "      <th>12</th>\n",
       "      <td>1997</td>\n",
       "      <td>132.434277</td>\n",
       "      <td>-1.260624</td>\n",
       "    </tr>\n",
       "    <tr>\n",
       "      <th>13</th>\n",
       "      <td>1998</td>\n",
       "      <td>130.395736</td>\n",
       "      <td>-2.038541</td>\n",
       "    </tr>\n",
       "    <tr>\n",
       "      <th>14</th>\n",
       "      <td>1999</td>\n",
       "      <td>128.070042</td>\n",
       "      <td>-2.325694</td>\n",
       "    </tr>\n",
       "    <tr>\n",
       "      <th>15</th>\n",
       "      <td>2000</td>\n",
       "      <td>125.155599</td>\n",
       "      <td>-2.914443</td>\n",
       "    </tr>\n",
       "    <tr>\n",
       "      <th>16</th>\n",
       "      <td>2001</td>\n",
       "      <td>120.337574</td>\n",
       "      <td>-4.818025</td>\n",
       "    </tr>\n",
       "    <tr>\n",
       "      <th>17</th>\n",
       "      <td>2002</td>\n",
       "      <td>118.191331</td>\n",
       "      <td>-2.146243</td>\n",
       "    </tr>\n",
       "    <tr>\n",
       "      <th>18</th>\n",
       "      <td>2003</td>\n",
       "      <td>117.526843</td>\n",
       "      <td>-0.664488</td>\n",
       "    </tr>\n",
       "    <tr>\n",
       "      <th>19</th>\n",
       "      <td>2004</td>\n",
       "      <td>117.414853</td>\n",
       "      <td>-0.111990</td>\n",
       "    </tr>\n",
       "    <tr>\n",
       "      <th>20</th>\n",
       "      <td>2005</td>\n",
       "      <td>116.420373</td>\n",
       "      <td>-0.994480</td>\n",
       "    </tr>\n",
       "    <tr>\n",
       "      <th>21</th>\n",
       "      <td>2006</td>\n",
       "      <td>114.347268</td>\n",
       "      <td>-2.073105</td>\n",
       "    </tr>\n",
       "    <tr>\n",
       "      <th>22</th>\n",
       "      <td>2007</td>\n",
       "      <td>111.268574</td>\n",
       "      <td>-3.078694</td>\n",
       "    </tr>\n",
       "    <tr>\n",
       "      <th>23</th>\n",
       "      <td>2008</td>\n",
       "      <td>106.853827</td>\n",
       "      <td>-4.414747</td>\n",
       "    </tr>\n",
       "    <tr>\n",
       "      <th>24</th>\n",
       "      <td>2009</td>\n",
       "      <td>101.752722</td>\n",
       "      <td>-5.101105</td>\n",
       "    </tr>\n",
       "    <tr>\n",
       "      <th>25</th>\n",
       "      <td>2010</td>\n",
       "      <td>102.013944</td>\n",
       "      <td>0.261222</td>\n",
       "    </tr>\n",
       "    <tr>\n",
       "      <th>26</th>\n",
       "      <td>2011</td>\n",
       "      <td>101.096639</td>\n",
       "      <td>-0.917305</td>\n",
       "    </tr>\n",
       "    <tr>\n",
       "      <th>27</th>\n",
       "      <td>2012</td>\n",
       "      <td>100.610551</td>\n",
       "      <td>-0.486088</td>\n",
       "    </tr>\n",
       "    <tr>\n",
       "      <th>28</th>\n",
       "      <td>2013</td>\n",
       "      <td>99.726110</td>\n",
       "      <td>-0.884441</td>\n",
       "    </tr>\n",
       "    <tr>\n",
       "      <th>29</th>\n",
       "      <td>2014</td>\n",
       "      <td>99.474252</td>\n",
       "      <td>-0.251858</td>\n",
       "    </tr>\n",
       "    <tr>\n",
       "      <th>30</th>\n",
       "      <td>2015</td>\n",
       "      <td>100.000000</td>\n",
       "      <td>0.525748</td>\n",
       "    </tr>\n",
       "    <tr>\n",
       "      <th>31</th>\n",
       "      <td>2016</td>\n",
       "      <td>99.304128</td>\n",
       "      <td>-0.695872</td>\n",
       "    </tr>\n",
       "    <tr>\n",
       "      <th>32</th>\n",
       "      <td>2017</td>\n",
       "      <td>99.066194</td>\n",
       "      <td>-0.237934</td>\n",
       "    </tr>\n",
       "    <tr>\n",
       "      <th>33</th>\n",
       "      <td>2018</td>\n",
       "      <td>99.110985</td>\n",
       "      <td>0.044791</td>\n",
       "    </tr>\n",
       "    <tr>\n",
       "      <th>34</th>\n",
       "      <td>2019</td>\n",
       "      <td>98.322959</td>\n",
       "      <td>-0.788026</td>\n",
       "    </tr>\n",
       "  </tbody>\n",
       "</table>\n",
       "</div>"
      ],
      "text/plain": [
       "    Date  Capital Productivity      diff\n",
       "0   1985            148.658607       NaN\n",
       "1   1986            146.476330 -2.182277\n",
       "2   1987            144.778892 -1.697438\n",
       "3   1988            144.428267 -0.350625\n",
       "4   1989            143.294170 -1.134097\n",
       "5   1990            140.277721 -3.016449\n",
       "6   1991            135.588618 -4.689103\n",
       "7   1992            136.066651  0.478033\n",
       "8   1993            135.441523 -0.625128\n",
       "9   1994            136.302360  0.860837\n",
       "10  1995            134.704374 -1.597986\n",
       "11  1996            133.694901 -1.009473\n",
       "12  1997            132.434277 -1.260624\n",
       "13  1998            130.395736 -2.038541\n",
       "14  1999            128.070042 -2.325694\n",
       "15  2000            125.155599 -2.914443\n",
       "16  2001            120.337574 -4.818025\n",
       "17  2002            118.191331 -2.146243\n",
       "18  2003            117.526843 -0.664488\n",
       "19  2004            117.414853 -0.111990\n",
       "20  2005            116.420373 -0.994480\n",
       "21  2006            114.347268 -2.073105\n",
       "22  2007            111.268574 -3.078694\n",
       "23  2008            106.853827 -4.414747\n",
       "24  2009            101.752722 -5.101105\n",
       "25  2010            102.013944  0.261222\n",
       "26  2011            101.096639 -0.917305\n",
       "27  2012            100.610551 -0.486088\n",
       "28  2013             99.726110 -0.884441\n",
       "29  2014             99.474252 -0.251858\n",
       "30  2015            100.000000  0.525748\n",
       "31  2016             99.304128 -0.695872\n",
       "32  2017             99.066194 -0.237934\n",
       "33  2018             99.110985  0.044791\n",
       "34  2019             98.322959 -0.788026"
      ]
     },
     "execution_count": 3,
     "metadata": {},
     "output_type": "execute_result"
    }
   ],
   "source": [
    "CP"
   ]
  },
  {
   "cell_type": "code",
   "execution_count": 4,
   "id": "62bb1934",
   "metadata": {},
   "outputs": [
    {
     "data": {
      "text/plain": [
       "Text(0.5, 1.0, 'GDP per capita')"
      ]
     },
     "execution_count": 4,
     "metadata": {},
     "output_type": "execute_result"
    },
    {
     "data": {
      "image/png": "[encoded data removed]",
      "text/plain": [
       "<Figure size 432x288 with 1 Axes>"
      ]
     },
     "metadata": {
      "needs_background": "light"
     },
     "output_type": "display_data"
    }
   ],
   "source": [
    "y= GDP.iloc[:,2]\n",
    "x=GDP.iloc[:,0]\n",
    "l1= plt.plot(x,y)\n",
    "plt.title ('GDP per capita')"
   ]
  },
  {
   "cell_type": "code",
   "execution_count": 5,
   "id": "bf226cd2",
   "metadata": {},
   "outputs": [
    {
     "data": {
      "text/plain": [
       "-3.4107674497793994"
      ]
     },
     "execution_count": 5,
     "metadata": {},
     "output_type": "execute_result"
    }
   ],
   "source": [
    "# ADF test\n",
    "\n",
    "result1 = adfuller(GDP['diff'][1:],maxlag=1)\n",
    "\n",
    "result1[0]"
   ]
  },
  {
   "cell_type": "code",
   "execution_count": 6,
   "id": "b1911726",
   "metadata": {},
   "outputs": [
    {
     "data": {
      "text/plain": [
       "{'1%': -3.6461350877925254,\n",
       " '5%': -2.954126991123355,\n",
       " '10%': -2.6159676124885216}"
      ]
     },
     "execution_count": 6,
     "metadata": {},
     "output_type": "execute_result"
    }
   ],
   "source": [
    "result1[4]"
   ]
  },
  {
   "cell_type": "code",
   "execution_count": 7,
   "id": "b4320872",
   "metadata": {},
   "outputs": [
    {
     "data": {
      "text/plain": [
       "Text(0.5, 1.0, 'Foreign Direct Investment')"
      ]
     },
     "execution_count": 7,
     "metadata": {},
     "output_type": "execute_result"
    },
    {
     "data": {
      "image/png": "[encoded data removed]",
      "text/plain": [
       "<Figure size 432x288 with 1 Axes>"
      ]
     },
     "metadata": {
      "needs_background": "light"
     },
     "output_type": "display_data"
    }
   ],
   "source": [
    "y=FDI.iloc[:,2]\n",
    "x=FDI.iloc[:,0]\n",
    "l1= plt.plot(x,y)\n",
    "plt.title ('Foreign Direct Investment')"
   ]
  },
  {
   "cell_type": "code",
   "execution_count": 8,
   "id": "ff07f08f",
   "metadata": {},
   "outputs": [
    {
     "data": {
      "text/plain": [
       "-6.087606795305174"
      ]
     },
     "execution_count": 8,
     "metadata": {},
     "output_type": "execute_result"
    }
   ],
   "source": [
    "#ADF test\n",
    "\n",
    "result1 = adfuller(FDI['diff'][1:],maxlag=1)\n",
    "\n",
    "result1[0]"
   ]
  },
  {
   "cell_type": "code",
   "execution_count": 9,
   "id": "0e9be3a7",
   "metadata": {},
   "outputs": [
    {
     "data": {
      "text/plain": [
       "{'1%': -3.6461350877925254,\n",
       " '5%': -2.954126991123355,\n",
       " '10%': -2.6159676124885216}"
      ]
     },
     "execution_count": 9,
     "metadata": {},
     "output_type": "execute_result"
    }
   ],
   "source": [
    "result1[4]"
   ]
  },
  {
   "cell_type": "code",
   "execution_count": 10,
   "id": "66fdf662",
   "metadata": {},
   "outputs": [
    {
     "data": {
      "text/plain": [
       "Text(0.5, 1.0, 'Capital Productivity ')"
      ]
     },
     "execution_count": 10,
     "metadata": {},
     "output_type": "execute_result"
    },
    {
     "data": {
      "image/png": "[encoded data removed]",
      "text/plain": [
       "<Figure size 432x288 with 1 Axes>"
      ]
     },
     "metadata": {
      "needs_background": "light"
     },
     "output_type": "display_data"
    }
   ],
   "source": [
    "y= CP.iloc[:,1]\n",
    "x= CP.iloc[:,0]\n",
    "l1= plt.plot(x,y)\n",
    "plt.title ('Capital Productivity ')"
   ]
  },
  {
   "cell_type": "code",
   "execution_count": 11,
   "id": "317ac9c8",
   "metadata": {},
   "outputs": [
    {
     "data": {
      "text/plain": [
       "-3.671560954961665"
      ]
     },
     "execution_count": 11,
     "metadata": {},
     "output_type": "execute_result"
    }
   ],
   "source": [
    "#ADF test\n",
    "\n",
    "result1 = adfuller(CP['diff'][1:],maxlag=1)\n",
    "\n",
    "result1[0]"
   ]
  },
  {
   "cell_type": "code",
   "execution_count": 12,
   "id": "f72caed9",
   "metadata": {},
   "outputs": [
    {
     "data": {
      "text/plain": [
       "{'1%': -3.6461350877925254,\n",
       " '5%': -2.954126991123355,\n",
       " '10%': -2.6159676124885216}"
      ]
     },
     "execution_count": 12,
     "metadata": {},
     "output_type": "execute_result"
    }
   ],
   "source": [
    "result1[4]"
   ]
  },
  {
   "cell_type": "markdown",
   "id": "1a1fb668",
   "metadata": {},
   "source": [
    "# SVAR"
   ]
  },
  {
   "cell_type": "code",
   "execution_count": 13,
   "id": "d9caa8b8",
   "metadata": {},
   "outputs": [],
   "source": [
    "x= pd.concat([GDP['Date'],GDP['diff'],FDI['diff'],CP['diff']],axis=1)\n",
    "x=x.iloc[1:,:]\n",
    "x = x.set_index('Date',drop=True,append=False)"
   ]
  },
  {
   "cell_type": "code",
   "execution_count": 14,
   "id": "22282812",
   "metadata": {},
   "outputs": [],
   "source": [
    "x=np.asarray(x)\n",
    "#x"
   ]
  },
  {
   "cell_type": "markdown",
   "id": "c248a3b4",
   "metadata": {},
   "source": [
    "X=[GDP_t FDI_t CP_t GDP_t-1 FDI_t-1 CP_t-1 GDP_t-2 FDI_t-2,CP_t-2,1]"
   ]
  },
  {
   "cell_type": "code",
   "execution_count": 15,
   "id": "a72ef55d",
   "metadata": {},
   "outputs": [],
   "source": [
    "M=np.hstack((x[2:,:],x[1:-1,:],x[0:-2,:]))"
   ]
  },
  {
   "cell_type": "code",
   "execution_count": 16,
   "id": "fb5385df",
   "metadata": {},
   "outputs": [
    {
     "name": "stdout",
     "output_type": "stream",
     "text": [
      "[[0. 0. 0. 0. 0. 0.]\n",
      " [0. 0. 0. 0. 0. 0.]\n",
      " [0. 0. 0. 0. 0. 0.]\n",
      " [1. 0. 0. 0. 0. 0.]\n",
      " [0. 1. 0. 0. 0. 0.]\n",
      " [0. 0. 1. 0. 0. 0.]]\n"
     ]
    },
    {
     "data": {
      "text/plain": [
       "array([[1., 0., 0., 0., 0., 0.],\n",
       "       [0., 1., 0., 0., 0., 0.],\n",
       "       [0., 0., 1., 0., 0., 0.],\n",
       "       [0., 0., 0., 1., 0., 0.],\n",
       "       [0., 0., 0., 0., 1., 0.],\n",
       "       [0., 0., 0., 0., 0., 1.]])"
      ]
     },
     "execution_count": 16,
     "metadata": {},
     "output_type": "execute_result"
    }
   ],
   "source": [
    "#matrix A,B\n",
    "A=np.zeros((6,6))\n",
    "A[3,0]=1\n",
    "A[4,1]=1\n",
    "A[5,2]=1\n",
    "print(A)\n",
    "B=np.identity(6)\n",
    "B"
   ]
  },
  {
   "cell_type": "code",
   "execution_count": 17,
   "id": "3b270062",
   "metadata": {},
   "outputs": [
    {
     "name": "stdout",
     "output_type": "stream",
     "text": [
      "                            OLS Regression Results                            \n",
      "==============================================================================\n",
      "Dep. Variable:                      y   R-squared:                       0.666\n",
      "Model:                            OLS   Adj. R-squared:                  0.549\n",
      "Method:                 Least Squares   F-statistic:                     5.724\n",
      "Date:                Sat, 13 Nov 2021   Prob (F-statistic):           0.000458\n",
      "Time:                        10:55:45   Log-Likelihood:                -238.95\n",
      "No. Observations:                  32   AIC:                             495.9\n",
      "Df Residuals:                      23   BIC:                             509.1\n",
      "Df Model:                           8                                         \n",
      "Covariance Type:            nonrobust                                         \n",
      "==============================================================================\n",
      "                 coef    std err          t      P>|t|      [0.025      0.975]\n",
      "------------------------------------------------------------------------------\n",
      "x1             0.0007      0.001      0.669      0.510      -0.001       0.003\n",
      "x2           327.2318     82.339      3.974      0.001     156.901     497.563\n",
      "x3             0.7715      0.227      3.400      0.002       0.302       1.241\n",
      "x4            -0.0005      0.001     -0.444      0.661      -0.003       0.002\n",
      "x5          -146.2480    115.972     -1.261      0.220    -386.155      93.659\n",
      "x6            -0.2616      0.250     -1.044      0.307      -0.780       0.257\n",
      "x7             0.0008      0.001      0.563      0.579      -0.002       0.004\n",
      "x8            65.6010     97.773      0.671      0.509    -136.658     267.860\n",
      "const       1043.4108    392.559      2.658      0.014     231.341    1855.481\n",
      "==============================================================================\n",
      "Omnibus:                        0.921   Durbin-Watson:                   1.992\n",
      "Prob(Omnibus):                  0.631   Jarque-Bera (JB):                0.429\n",
      "Skew:                          -0.281   Prob(JB):                        0.807\n",
      "Kurtosis:                       3.074   Cond. No.                     4.29e+05\n",
      "==============================================================================\n",
      "\n",
      "Notes:\n",
      "[1] Standard Errors assume that the covariance matrix of the errors is correctly specified.\n",
      "[2] The condition number is large, 4.29e+05. This might indicate that there are\n",
      "strong multicollinearity or other numerical problems.\n"
     ]
    },
    {
     "data": {
      "text/plain": [
       "array([[ 7.71500e-01, -5.00000e-04, -1.46248e+02, -2.61600e-01,\n",
       "         8.00000e-04,  6.56010e+01],\n",
       "       [ 0.00000e+00,  0.00000e+00,  0.00000e+00,  0.00000e+00,\n",
       "         0.00000e+00,  0.00000e+00],\n",
       "       [ 0.00000e+00,  0.00000e+00,  0.00000e+00,  0.00000e+00,\n",
       "         0.00000e+00,  0.00000e+00],\n",
       "       [ 1.00000e+00,  0.00000e+00,  0.00000e+00,  0.00000e+00,\n",
       "         0.00000e+00,  0.00000e+00],\n",
       "       [ 0.00000e+00,  1.00000e+00,  0.00000e+00,  0.00000e+00,\n",
       "         0.00000e+00,  0.00000e+00],\n",
       "       [ 0.00000e+00,  0.00000e+00,  1.00000e+00,  0.00000e+00,\n",
       "         0.00000e+00,  0.00000e+00]])"
      ]
     },
     "execution_count": 17,
     "metadata": {},
     "output_type": "execute_result"
    }
   ],
   "source": [
    "#GDP_t regression\n",
    "M1=np.hstack((M[:,1:],np.ones((M.shape[0],1))))\n",
    "Y=M[:,0]\n",
    "X=M1\n",
    "\n",
    "\n",
    "from statsmodels import api as sm\n",
    "model=sm.OLS(Y,X).fit()\n",
    "print(model.summary())\n",
    "\n",
    "B[0,1]= 0.0007 \n",
    "B[0,2]= 327.2318  \n",
    "A[0,:]= [0.7715,-0.0005,-146.2480,-0.2616,0.0008 , 65.6010 ]\n",
    "A\n",
    "#x1,x2,x3* \n",
    "#report x1-x5"
   ]
  },
  {
   "cell_type": "code",
   "execution_count": 18,
   "id": "3063a9af",
   "metadata": {},
   "outputs": [
    {
     "name": "stdout",
     "output_type": "stream",
     "text": [
      "                            OLS Regression Results                            \n",
      "==============================================================================\n",
      "Dep. Variable:                      y   R-squared:                       0.093\n",
      "Model:                            OLS   Adj. R-squared:                 -0.125\n",
      "Method:                 Least Squares   F-statistic:                    0.4273\n",
      "Date:                Sat, 13 Nov 2021   Prob (F-statistic):              0.854\n",
      "Time:                        10:55:45   Log-Likelihood:                -408.72\n",
      "No. Observations:                  32   AIC:                             831.4\n",
      "Df Residuals:                      25   BIC:                             841.7\n",
      "Df Model:                           6                                         \n",
      "Covariance Type:            nonrobust                                         \n",
      "==============================================================================\n",
      "                 coef    std err          t      P>|t|      [0.025      0.975]\n",
      "------------------------------------------------------------------------------\n",
      "x1           -17.6077     39.883     -0.441      0.663     -99.748      64.533\n",
      "x2            -0.1772      0.206     -0.861      0.397      -0.601       0.247\n",
      "x3           1.85e+04   2.01e+04      0.920      0.366   -2.29e+04    5.99e+04\n",
      "x4            25.1601     47.884      0.525      0.604     -73.459     123.779\n",
      "x5            -0.2034      0.257     -0.793      0.435      -0.732       0.325\n",
      "x6          -386.2901   1.83e+04     -0.021      0.983   -3.81e+04    3.73e+04\n",
      "const       2.884e+04   6.98e+04      0.413      0.683   -1.15e+05    1.73e+05\n",
      "==============================================================================\n",
      "Omnibus:                        2.118   Durbin-Watson:                   2.149\n",
      "Prob(Omnibus):                  0.347   Jarque-Bera (JB):                0.997\n",
      "Skew:                           0.121   Prob(JB):                        0.607\n",
      "Kurtosis:                       3.830   Cond. No.                     3.69e+05\n",
      "==============================================================================\n",
      "\n",
      "Notes:\n",
      "[1] Standard Errors assume that the covariance matrix of the errors is correctly specified.\n",
      "[2] The condition number is large, 3.69e+05. This might indicate that there are\n",
      "strong multicollinearity or other numerical problems.\n"
     ]
    },
    {
     "data": {
      "text/plain": [
       "array([[ 7.715000e-01, -5.000000e-04, -1.462480e+02, -2.616000e-01,\n",
       "         8.000000e-04,  6.560100e+01],\n",
       "       [-1.760770e+01, -1.772000e-01,  1.850000e+04,  2.516010e+01,\n",
       "        -2.034000e-01, -3.862901e+02],\n",
       "       [ 0.000000e+00,  0.000000e+00,  0.000000e+00,  0.000000e+00,\n",
       "         0.000000e+00,  0.000000e+00],\n",
       "       [ 1.000000e+00,  0.000000e+00,  0.000000e+00,  0.000000e+00,\n",
       "         0.000000e+00,  0.000000e+00],\n",
       "       [ 0.000000e+00,  1.000000e+00,  0.000000e+00,  0.000000e+00,\n",
       "         0.000000e+00,  0.000000e+00],\n",
       "       [ 0.000000e+00,  0.000000e+00,  1.000000e+00,  0.000000e+00,\n",
       "         0.000000e+00,  0.000000e+00]])"
      ]
     },
     "execution_count": 18,
     "metadata": {},
     "output_type": "execute_result"
    }
   ],
   "source": [
    "#FDI regression\n",
    "M2=np.hstack((M[:,3:],np.ones((M.shape[0],1))))\n",
    "Y=M[:,1]\n",
    "X=M2\n",
    "\n",
    "from statsmodels import api as sm\n",
    "model=sm.OLS(Y,X).fit()\n",
    "print(model.summary())\n",
    "\n",
    "A[1,:]=[-17.6077,-0.1772 ,1.85e+04,25.1601,-0.2034,-386.2901]\n",
    "A\n",
    "\n",
    "#report x1,x2,x3"
   ]
  },
  {
   "cell_type": "code",
   "execution_count": 19,
   "id": "00c3f8bb",
   "metadata": {},
   "outputs": [
    {
     "name": "stdout",
     "output_type": "stream",
     "text": [
      "                            OLS Regression Results                            \n",
      "==============================================================================\n",
      "Dep. Variable:                      y   R-squared:                       0.519\n",
      "Model:                            OLS   Adj. R-squared:                  0.404\n",
      "Method:                 Least Squares   F-statistic:                     4.504\n",
      "Date:                Sat, 13 Nov 2021   Prob (F-statistic):            0.00318\n",
      "Time:                        10:55:46   Log-Likelihood:                -48.662\n",
      "No. Observations:                  32   AIC:                             111.3\n",
      "Df Residuals:                      25   BIC:                             121.6\n",
      "Df Model:                           6                                         \n",
      "Covariance Type:            nonrobust                                         \n",
      "==============================================================================\n",
      "                 coef    std err          t      P>|t|      [0.025      0.975]\n",
      "------------------------------------------------------------------------------\n",
      "x1            -0.0012      0.001     -2.277      0.032      -0.002      -0.000\n",
      "x2         -5.713e-06   2.67e-06     -2.138      0.042   -1.12e-05   -2.11e-07\n",
      "x3             0.6342      0.261      2.428      0.023       0.096       1.172\n",
      "x4            -0.0002      0.001     -0.353      0.727      -0.001       0.001\n",
      "x5         -4.826e-06   3.33e-06     -1.448      0.160   -1.17e-05    2.04e-06\n",
      "x6             0.2921      0.238      1.229      0.230      -0.197       0.781\n",
      "const          1.9243      0.906      2.124      0.044       0.059       3.790\n",
      "==============================================================================\n",
      "Omnibus:                        3.681   Durbin-Watson:                   1.992\n",
      "Prob(Omnibus):                  0.159   Jarque-Bera (JB):                2.379\n",
      "Skew:                          -0.368   Prob(JB):                        0.304\n",
      "Kurtosis:                       4.115   Cond. No.                     3.69e+05\n",
      "==============================================================================\n",
      "\n",
      "Notes:\n",
      "[1] Standard Errors assume that the covariance matrix of the errors is correctly specified.\n",
      "[2] The condition number is large, 3.69e+05. This might indicate that there are\n",
      "strong multicollinearity or other numerical problems.\n"
     ]
    },
    {
     "data": {
      "text/plain": [
       "array([[ 7.715000e-01, -5.000000e-04, -1.462480e+02, -2.616000e-01,\n",
       "         8.000000e-04,  6.560100e+01],\n",
       "       [-1.760770e+01, -1.772000e-01,  1.850000e+04,  2.516010e+01,\n",
       "        -2.034000e-01, -3.862901e+02],\n",
       "       [-1.200000e-03, -5.713000e-06,  6.342000e-01, -2.000000e-04,\n",
       "        -4.826000e-06,  2.921000e-01],\n",
       "       [ 1.000000e+00,  0.000000e+00,  0.000000e+00,  0.000000e+00,\n",
       "         0.000000e+00,  0.000000e+00],\n",
       "       [ 0.000000e+00,  1.000000e+00,  0.000000e+00,  0.000000e+00,\n",
       "         0.000000e+00,  0.000000e+00],\n",
       "       [ 0.000000e+00,  0.000000e+00,  1.000000e+00,  0.000000e+00,\n",
       "         0.000000e+00,  0.000000e+00]])"
      ]
     },
     "execution_count": 19,
     "metadata": {},
     "output_type": "execute_result"
    }
   ],
   "source": [
    "#CP regression\n",
    "M3=np.hstack((M[:,3:],np.ones((M.shape[0],1))))\n",
    "Y=M[:,2]\n",
    "X=M3\n",
    "\n",
    "from statsmodels import api as sm\n",
    "model=sm.OLS(Y,X).fit()\n",
    "print(model.summary())\n",
    "\n",
    "A[2,:]=[-0.0012,-5.713e-06,0.6342,-0.0002,-4.826e-06,0.2921]\n",
    "A"
   ]
  },
  {
   "cell_type": "markdown",
   "id": "9af1b628",
   "metadata": {},
   "source": [
    "# Impulse Reaction Function"
   ]
  },
  {
   "cell_type": "code",
   "execution_count": 20,
   "id": "9088cd33",
   "metadata": {},
   "outputs": [
    {
     "data": {
      "image/png": "[encoded data removed]",
      "text/plain": [
       "<Figure size 432x288 with 1 Axes>"
      ]
     },
     "metadata": {
      "needs_background": "light"
     },
     "output_type": "display_data"
    }
   ],
   "source": [
    "#impulse reaction function:shock of FDI at time t effect on future GDP per capita\n",
    "Imp=np.zeros((10,1))\n",
    "invB = np.linalg.inv(B)\n",
    "D=A.copy()\n",
    "\n",
    "#contemporaneous effect of FDI shock at time t on GDP on time t\n",
    "Imp[0]=invB[0,1]\n",
    " \n",
    "for i in range(1,10):\n",
    "    F=np.dot(invB,D)\n",
    "    Imp[i]=F[0,1]\n",
    "    D=np.dot(A,D)\n",
    "    \n",
    "import matplotlib.pyplot as plt\n",
    "plt.plot(np.arange(0,10), Imp)\n",
    "plt.title('The effect FDI shock on GDP per capita ')\n",
    "plt.show()\n",
    "\n"
   ]
  },
  {
   "cell_type": "code",
   "execution_count": 21,
   "id": "fe655fe3",
   "metadata": {},
   "outputs": [
    {
     "data": {
      "image/png": "[encoded data removed]",
      "text/plain": [
       "<Figure size 432x288 with 1 Axes>"
      ]
     },
     "metadata": {
      "needs_background": "light"
     },
     "output_type": "display_data"
    }
   ],
   "source": [
    "#impulse reaction function:shock of GDP at time t effect on future GDP per capita\n",
    "Imp=np.zeros((10,1))\n",
    "invB = np.linalg.inv(B)\n",
    "D=A.copy()\n",
    "\n",
    "Imp[0]=invB[0,0]\n",
    "#range(1,10) \n",
    "for i in range(1,10):\n",
    "    F=np.dot(invB,D)\n",
    "    Imp[i]=F[0,0]\n",
    "    D=np.dot(A,D)\n",
    "    \n",
    "import matplotlib.pyplot as plt\n",
    "plt.plot(np.arange(0,10), Imp)\n",
    "plt.title('The effect GDP shock on GDP per capita ')\n",
    "plt.show()\n"
   ]
  },
  {
   "cell_type": "code",
   "execution_count": 22,
   "id": "030834b6",
   "metadata": {},
   "outputs": [
    {
     "data": {
      "image/png": "[encoded data removed]",
      "text/plain": [
       "<Figure size 432x288 with 1 Axes>"
      ]
     },
     "metadata": {
      "needs_background": "light"
     },
     "output_type": "display_data"
    }
   ],
   "source": [
    "#impulse reaction function:shock of labor productivity at time t effect on future GDP per capita\n",
    "Imp=np.zeros((10,1))\n",
    "invB = np.linalg.inv(B)\n",
    "D=A.copy()\n",
    "\n",
    "Imp[0]=invB[0,2]\n",
    "#range(1,10) \n",
    "for i in range(1,10):\n",
    "    F=np.dot(invB,D)\n",
    "    Imp[i]=F[0,2]\n",
    "    D=np.dot(A,D)\n",
    "    \n",
    "import matplotlib.pyplot as plt\n",
    "plt.plot(np.arange(0,10), Imp)\n",
    "plt.title('The effect of capital productivity on GDP per capita ')\n",
    "plt.show()\n",
    "\n",
    "\n",
    "#consistant with hypothesis"
   ]
  },
  {
   "cell_type": "code",
   "execution_count": 23,
   "id": "bf3e2d1f",
   "metadata": {},
   "outputs": [
    {
     "data": {
      "image/png": "[encoded data removed]",
      "text/plain": [
       "<Figure size 432x288 with 1 Axes>"
      ]
     },
     "metadata": {
      "needs_background": "light"
     },
     "output_type": "display_data"
    }
   ],
   "source": [
    "#impulse reaction function:shock of GDP per capita at time t effect on FDI\n",
    "Imp=np.zeros((10,1))\n",
    "invB = np.linalg.inv(B)\n",
    "D=A.copy()\n",
    "\n",
    "Imp[0]=invB[1,0]\n",
    "#range(1,10) \n",
    "for i in range(1,10):\n",
    "    F=np.dot(invB,D)\n",
    "    Imp[i]=F[1,0]\n",
    "    D=np.dot(A,D)\n",
    "    \n",
    "import matplotlib.pyplot as plt\n",
    "plt.plot(np.arange(0,10), Imp)\n",
    "plt.title('effect of current GDP shock on FDI')\n",
    "plt.show()"
   ]
  },
  {
   "cell_type": "code",
   "execution_count": 24,
   "id": "3a0ae97b",
   "metadata": {},
   "outputs": [
    {
     "data": {
      "image/png": "[encoded data removed]",
      "text/plain": [
       "<Figure size 432x288 with 1 Axes>"
      ]
     },
     "metadata": {
      "needs_background": "light"
     },
     "output_type": "display_data"
    }
   ],
   "source": [
    "#impulse reaction function:shock of FDI at time t effect on FDI\n",
    "Imp=np.zeros((10,1))\n",
    "invB = np.linalg.inv(B)\n",
    "D=A.copy()\n",
    "\n",
    "Imp[0]=invB[1,1]\n",
    "#range(1,10) \n",
    "for i in range(1,10):\n",
    "    F=np.dot(invB,D)\n",
    "    Imp[i]=F[1,1]\n",
    "    D=np.dot(A,D)\n",
    "    \n",
    "import matplotlib.pyplot as plt\n",
    "plt.plot(np.arange(0,10), Imp)\n",
    "plt.show()"
   ]
  },
  {
   "cell_type": "code",
   "execution_count": 25,
   "id": "5f3205e4",
   "metadata": {},
   "outputs": [
    {
     "data": {
      "image/png": "[encoded data removed]",
      "text/plain": [
       "<Figure size 432x288 with 1 Axes>"
      ]
     },
     "metadata": {
      "needs_background": "light"
     },
     "output_type": "display_data"
    }
   ],
   "source": [
    "#impulse reaction function:shock of CP per capita at time t effect on FDI\n",
    "Imp=np.zeros((10,1))\n",
    "invB = np.linalg.inv(B)\n",
    "D=A.copy()\n",
    "\n",
    "Imp[0]=invB[1,2]\n",
    "#range(1,10) \n",
    "for i in range(1,10):\n",
    "    F=np.dot(invB,D)\n",
    "    Imp[i]=F[1,2]\n",
    "    D=np.dot(A,D)\n",
    "    \n",
    "import matplotlib.pyplot as plt\n",
    "plt.plot(np.arange(0,10), Imp)\n",
    "plt.show()"
   ]
  },
  {
   "cell_type": "code",
   "execution_count": 26,
   "id": "99c5cad3",
   "metadata": {},
   "outputs": [
    {
     "data": {
      "image/png": "[encoded data removed]",
      "text/plain": [
       "<Figure size 432x288 with 1 Axes>"
      ]
     },
     "metadata": {
      "needs_background": "light"
     },
     "output_type": "display_data"
    }
   ],
   "source": [
    "#impulse reaction function:shock of GDP per capita at time t effect on CP\n",
    "Imp=np.zeros((10,1))\n",
    "invB = np.linalg.inv(B)\n",
    "D=A.copy()\n",
    "\n",
    "Imp[0]=invB[2,0]\n",
    "#range(1,10) \n",
    "for i in range(1,10):\n",
    "    F=np.dot(invB,D)\n",
    "    Imp[i]=F[2,0]\n",
    "    D=np.dot(A,D)\n",
    "    \n",
    "import matplotlib.pyplot as plt\n",
    "plt.plot(np.arange(0,10), Imp)\n",
    "plt.title('effect of shock in GDP on capital productivity')\n",
    "plt.show()"
   ]
  },
  {
   "cell_type": "code",
   "execution_count": 27,
   "id": "122cf025",
   "metadata": {},
   "outputs": [
    {
     "data": {
      "image/png": "[encoded data removed]",
      "text/plain": [
       "<Figure size 432x288 with 1 Axes>"
      ]
     },
     "metadata": {
      "needs_background": "light"
     },
     "output_type": "display_data"
    }
   ],
   "source": [
    "#impulse reaction function:shock of FDI at time t effect on CP\n",
    "Imp=np.zeros((10,1))\n",
    "invB = np.linalg.inv(B)\n",
    "D=A.copy()\n",
    "\n",
    "Imp[0]=invB[2,1]\n",
    "#range(1,10) \n",
    "for i in range(1,10):\n",
    "    F=np.dot(invB,D)\n",
    "    Imp[i]=F[2,1]\n",
    "    D=np.dot(A,D)\n",
    "    \n",
    "import matplotlib.pyplot as plt\n",
    "plt.plot(np.arange(0,10), Imp)\n",
    "plt.show()"
   ]
  },
  {
   "cell_type": "code",
   "execution_count": 28,
   "id": "34fed5db",
   "metadata": {},
   "outputs": [
    {
     "data": {
      "image/png": "[encoded data removed]",
      "text/plain": [
       "<Figure size 432x288 with 1 Axes>"
      ]
     },
     "metadata": {
      "needs_background": "light"
     },
     "output_type": "display_data"
    }
   ],
   "source": [
    "#impulse reaction function:shock of CP at time t effect on CP\n",
    "Imp=np.zeros((10,1))\n",
    "invB = np.linalg.inv(B)\n",
    "D=A.copy()\n",
    "\n",
    "Imp[0]=invB[2,2]\n",
    "#range(1,10) \n",
    "for i in range(1,10):\n",
    "    F=np.dot(invB,D)\n",
    "    Imp[i]=F[2,2]\n",
    "    D=np.dot(A,D)\n",
    "    \n",
    "import matplotlib.pyplot as plt\n",
    "plt.plot(np.arange(0,10), Imp)\n",
    "plt.show()"
   ]
  },
  {
   "cell_type": "code",
   "execution_count": 30,
   "id": "c9674848",
   "metadata": {},
   "outputs": [],
   "source": []
  },
  {
   "cell_type": "code",
   "execution_count": null,
   "id": "7d5f4f70",
   "metadata": {},
   "outputs": [],
   "source": []
  }
 ],
 "metadata": {
  "kernelspec": {
   "display_name": "Python 3 (ipykernel)",
   "language": "python",
   "name": "python3"
  },
  "language_info": {
   "codemirror_mode": {
    "name": "ipython",
    "version": 3
   },
   "file_extension": ".py",
   "mimetype": "text/x-python",
   "name": "python",
   "nbconvert_exporter": "python",
   "pygments_lexer": "ipython3",
   "version": "3.9.13"
  }
 },
 "nbformat": 4,
 "nbformat_minor": 5
}
